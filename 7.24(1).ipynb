{
 "cells": [
  {
   "cell_type": "markdown",
   "metadata": {},
   "source": [
    "# 更多字符串和特殊方法\n",
    "- 前面我们已经学了类，在Python中还有一些特殊的方法起着非常重要的作用，这里会介绍一些特殊的方法和运算符的重载，以及使用特殊方法设计类"
   ]
  },
  {
   "cell_type": "markdown",
   "metadata": {},
   "source": [
    "## str 类\n",
    "- 一个str对象是不可变的，也就是说，一旦创建了这个字符串，那么它的内容在认为不改变的情况下是不会变的\n",
    "- s1 = str()\n",
    "- s2 = str('welcome to Python')"
   ]
  },
  {
   "cell_type": "code",
   "execution_count": 1,
   "metadata": {},
   "outputs": [
    {
     "data": {
      "text/plain": [
       "str"
      ]
     },
     "execution_count": 1,
     "metadata": {},
     "output_type": "execute_result"
    }
   ],
   "source": [
    "a = 'Joker'\n",
    "type(a)"
   ]
  },
  {
   "cell_type": "code",
   "execution_count": null,
   "metadata": {},
   "outputs": [],
   "source": [
    "a = ' '#空格是字符串"
   ]
  },
  {
   "cell_type": "code",
   "execution_count": 2,
   "metadata": {},
   "outputs": [
    {
     "data": {
      "text/plain": [
       "'100joker'"
      ]
     },
     "execution_count": 2,
     "metadata": {},
     "output_type": "execute_result"
    }
   ],
   "source": [
    "a=100\n",
    "b = str(a)\n",
    "b +'joker'"
   ]
  },
  {
   "cell_type": "markdown",
   "metadata": {},
   "source": [
    "## 创建两个对象，分别观察两者id\n",
    "- id为Python内存地址"
   ]
  },
  {
   "cell_type": "code",
   "execution_count": 3,
   "metadata": {},
   "outputs": [
    {
     "data": {
      "text/plain": [
       "140735604039584"
      ]
     },
     "execution_count": 3,
     "metadata": {},
     "output_type": "execute_result"
    }
   ],
   "source": [
    "id(a)"
   ]
  },
  {
   "cell_type": "code",
   "execution_count": 4,
   "metadata": {},
   "outputs": [
    {
     "name": "stdout",
     "output_type": "stream",
     "text": [
      "140735604039584 140735604039584\n"
     ]
    }
   ],
   "source": [
    "a = 100\n",
    "b = 100\n",
    "print(id(a),id(b))"
   ]
  },
  {
   "cell_type": "code",
   "execution_count": 5,
   "metadata": {},
   "outputs": [
    {
     "name": "stdout",
     "output_type": "stream",
     "text": [
      "2212812421008 2212812420976\n"
     ]
    }
   ],
   "source": [
    "a = 3000\n",
    "b = 3000\n",
    "print(id(a),id(b))"
   ]
  },
  {
   "cell_type": "code",
   "execution_count": 6,
   "metadata": {},
   "outputs": [
    {
     "name": "stdout",
     "output_type": "stream",
     "text": [
      "2212760037672 2212764540520\n"
     ]
    }
   ],
   "source": [
    "a = 'a'\n",
    "b = 'ab'\n",
    "print(id(a),id(b))"
   ]
  },
  {
   "cell_type": "markdown",
   "metadata": {},
   "source": [
    "## 处理字符串的函数\n",
    "- len\n",
    "- max\n",
    "- min\n",
    "- 字符串一切是按照ASCII码值进行比较"
   ]
  },
  {
   "cell_type": "code",
   "execution_count": 7,
   "metadata": {},
   "outputs": [
    {
     "data": {
      "text/plain": [
       "3"
      ]
     },
     "execution_count": 7,
     "metadata": {},
     "output_type": "execute_result"
    }
   ],
   "source": [
    "length = len('aaa')\n",
    "length"
   ]
  },
  {
   "cell_type": "code",
   "execution_count": 8,
   "metadata": {},
   "outputs": [
    {
     "data": {
      "text/plain": [
       "False"
      ]
     },
     "execution_count": 8,
     "metadata": {},
     "output_type": "execute_result"
    }
   ],
   "source": [
    "a = len('aaab')\n",
    "b = len('aaa')\n",
    "a  == b  #返回的是int类型"
   ]
  },
  {
   "cell_type": "code",
   "execution_count": 9,
   "metadata": {},
   "outputs": [
    {
     "data": {
      "text/plain": [
       "'r'"
      ]
     },
     "execution_count": 9,
     "metadata": {},
     "output_type": "execute_result"
    }
   ],
   "source": [
    "c = 'Joker'\n",
    "max(c)"
   ]
  },
  {
   "cell_type": "code",
   "execution_count": 10,
   "metadata": {},
   "outputs": [
    {
     "data": {
      "text/plain": [
       "'Joker'"
      ]
     },
     "execution_count": 10,
     "metadata": {},
     "output_type": "execute_result"
    }
   ],
   "source": [
    "c = 'Joker'\n",
    "d = 'Haha'\n",
    "max(c,d)"
   ]
  },
  {
   "cell_type": "markdown",
   "metadata": {},
   "source": [
    "## 下角标运算符 []\n",
    "- 一个字符串是一个字符序列，可以通过索引进行访问\n",
    "- 观察字符串是否是一个可迭代序列  \\__iter__"
   ]
  },
  {
   "cell_type": "code",
   "execution_count": 11,
   "metadata": {},
   "outputs": [
    {
     "data": {
      "text/plain": [
       "'J'"
      ]
     },
     "execution_count": 11,
     "metadata": {},
     "output_type": "execute_result"
    }
   ],
   "source": [
    "c[0]"
   ]
  },
  {
   "cell_type": "code",
   "execution_count": 12,
   "metadata": {},
   "outputs": [
    {
     "name": "stdout",
     "output_type": "stream",
     "text": [
      "Joker\n"
     ]
    },
    {
     "data": {
      "text/plain": [
       "'r'"
      ]
     },
     "execution_count": 12,
     "metadata": {},
     "output_type": "execute_result"
    }
   ],
   "source": [
    "print(c)#索引是从0开始\n",
    "c[4]"
   ]
  },
  {
   "cell_type": "code",
   "execution_count": 13,
   "metadata": {},
   "outputs": [
    {
     "name": "stdout",
     "output_type": "stream",
     "text": [
      "Joker\n"
     ]
    },
    {
     "ename": "IndexError",
     "evalue": "string index out of range",
     "output_type": "error",
     "traceback": [
      "\u001b[1;31m---------------------------------------------------------------------------\u001b[0m",
      "\u001b[1;31mIndexError\u001b[0m                                Traceback (most recent call last)",
      "\u001b[1;32m<ipython-input-13-be10f32665c5>\u001b[0m in \u001b[0;36m<module>\u001b[1;34m\u001b[0m\n\u001b[0;32m      1\u001b[0m \u001b[0mprint\u001b[0m\u001b[1;33m(\u001b[0m\u001b[0mc\u001b[0m\u001b[1;33m)\u001b[0m\u001b[1;31m#索引是从0开始\u001b[0m\u001b[1;33m\u001b[0m\u001b[1;33m\u001b[0m\u001b[0m\n\u001b[1;32m----> 2\u001b[1;33m \u001b[0mc\u001b[0m\u001b[1;33m[\u001b[0m\u001b[1;36m5\u001b[0m\u001b[1;33m]\u001b[0m\u001b[1;33m\u001b[0m\u001b[1;33m\u001b[0m\u001b[0m\n\u001b[0m",
      "\u001b[1;31mIndexError\u001b[0m: string index out of range"
     ]
    }
   ],
   "source": [
    "print(c)\n",
    "c[5] #越界"
   ]
  },
  {
   "cell_type": "code",
   "execution_count": 14,
   "metadata": {},
   "outputs": [
    {
     "name": "stdout",
     "output_type": "stream",
     "text": [
      "Joker\n"
     ]
    },
    {
     "data": {
      "text/plain": [
       "'r'"
      ]
     },
     "execution_count": 14,
     "metadata": {},
     "output_type": "execute_result"
    }
   ],
   "source": [
    "print(c)\n",
    "c[-1]   # -1:length-1   -2:length-2"
   ]
  },
  {
   "cell_type": "code",
   "execution_count": 15,
   "metadata": {},
   "outputs": [
    {
     "name": "stdout",
     "output_type": "stream",
     "text": [
      "J\n",
      "o\n",
      "k\n",
      "e\n",
      "r\n"
     ]
    }
   ],
   "source": [
    "for i in 'Joker':\n",
    "    print(i)"
   ]
  },
  {
   "cell_type": "code",
   "execution_count": 2,
   "metadata": {},
   "outputs": [
    {
     "name": "stdout",
     "output_type": "stream",
     "text": [
      "J\n",
      "o\n",
      "k\n",
      "e\n",
      "r\n"
     ]
    }
   ],
   "source": [
    "c = 'Joker'\n",
    "i = 0\n",
    "while i< len(c):\n",
    "    print(c[i])\n",
    "    i += 1"
   ]
  },
  {
   "cell_type": "markdown",
   "metadata": {},
   "source": [
    "## 切片 [start: end]\n",
    "- start 默认值为0\n",
    "- end 默认值为-1"
   ]
  },
  {
   "cell_type": "code",
   "execution_count": null,
   "metadata": {},
   "outputs": [],
   "source": [
    "1.和for loop 一样，如果步长为正，那么start<end\n",
    "2.如果步长为负，那么start>end\n",
    "3.如果想要整体反转（左右），[::-1]"
   ]
  },
  {
   "cell_type": "code",
   "execution_count": 3,
   "metadata": {},
   "outputs": [
    {
     "data": {
      "text/plain": [
       "'刘稚书'"
      ]
     },
     "execution_count": 3,
     "metadata": {},
     "output_type": "execute_result"
    }
   ],
   "source": [
    "a = '刘稚书和赵文洋要结婚了，可是买不起房，但是家里有矿'\n",
    "a[0:3]"
   ]
  },
  {
   "cell_type": "code",
   "execution_count": 4,
   "metadata": {},
   "outputs": [
    {
     "data": {
      "text/plain": [
       "'刘稚书'"
      ]
     },
     "execution_count": 4,
     "metadata": {},
     "output_type": "execute_result"
    }
   ],
   "source": [
    "a = '刘稚书和赵文洋要结婚了，可是买不起房，但是家里有矿'\n",
    "a[-25:-22]"
   ]
  },
  {
   "cell_type": "code",
   "execution_count": 5,
   "metadata": {},
   "outputs": [
    {
     "data": {
      "text/plain": [
       "'书稚'"
      ]
     },
     "execution_count": 5,
     "metadata": {},
     "output_type": "execute_result"
    }
   ],
   "source": [
    "a = '刘稚书和赵文洋要结婚了，可是买不起房，但是家里有矿'\n",
    "a[2:0:-1]"
   ]
  },
  {
   "cell_type": "code",
   "execution_count": 6,
   "metadata": {},
   "outputs": [
    {
     "data": {
      "text/plain": [
       "'书稚'"
      ]
     },
     "execution_count": 6,
     "metadata": {},
     "output_type": "execute_result"
    }
   ],
   "source": [
    "a = '刘稚书和赵文洋要结婚了，可是买不起房，但是家里有矿'\n",
    "a[-23:-25:-1]"
   ]
  },
  {
   "cell_type": "code",
   "execution_count": 7,
   "metadata": {},
   "outputs": [
    {
     "data": {
      "text/plain": [
       "'刘稚书和赵文洋要结婚了，可是买不起房，但是家里有矿'"
      ]
     },
     "execution_count": 7,
     "metadata": {},
     "output_type": "execute_result"
    }
   ],
   "source": [
    "a[::]# a[0:25:1]"
   ]
  },
  {
   "cell_type": "code",
   "execution_count": 9,
   "metadata": {},
   "outputs": [
    {
     "data": {
      "text/plain": [
       "'矿有里家是但，房起不买是可，了婚结要洋文赵和书稚刘'"
      ]
     },
     "execution_count": 9,
     "metadata": {},
     "output_type": "execute_result"
    }
   ],
   "source": [
    "a[::-1]# a[0:25:-1]"
   ]
  },
  {
   "cell_type": "code",
   "execution_count": 10,
   "metadata": {},
   "outputs": [
    {
     "data": {
      "text/plain": [
       "'书稚刘'"
      ]
     },
     "execution_count": 10,
     "metadata": {},
     "output_type": "execute_result"
    }
   ],
   "source": [
    "a[0:3][::-1]"
   ]
  },
  {
   "cell_type": "code",
   "execution_count": 11,
   "metadata": {},
   "outputs": [
    {
     "data": {
      "text/plain": [
       "'买不起房'"
      ]
     },
     "execution_count": 11,
     "metadata": {},
     "output_type": "execute_result"
    }
   ],
   "source": [
    "a = '刘稚书和赵文洋要结婚了，可是买不起房，但是家里有矿'\n",
    "a[14:18]"
   ]
  },
  {
   "cell_type": "code",
   "execution_count": 12,
   "metadata": {},
   "outputs": [
    {
     "data": {
      "text/plain": [
       "'买不起房'"
      ]
     },
     "execution_count": 12,
     "metadata": {},
     "output_type": "execute_result"
    }
   ],
   "source": [
    "a = '刘稚书和赵文洋要结婚了，可是买不起房，但是家里有矿'\n",
    "a[-11:-7]"
   ]
  },
  {
   "cell_type": "code",
   "execution_count": 13,
   "metadata": {},
   "outputs": [
    {
     "data": {
      "text/plain": [
       "'家里有矿'"
      ]
     },
     "execution_count": 13,
     "metadata": {},
     "output_type": "execute_result"
    }
   ],
   "source": [
    "a = '刘稚书和赵文洋要结婚了，可是买不起房，但是家里有矿'\n",
    "a[21:25]"
   ]
  },
  {
   "cell_type": "code",
   "execution_count": 15,
   "metadata": {},
   "outputs": [
    {
     "data": {
      "text/plain": [
       "'家里有矿'"
      ]
     },
     "execution_count": 15,
     "metadata": {},
     "output_type": "execute_result"
    }
   ],
   "source": [
    "a = '刘稚书和赵文洋要结婚了，可是买不起房，但是家里有矿'\n",
    "a[21:]"
   ]
  },
  {
   "cell_type": "code",
   "execution_count": 14,
   "metadata": {},
   "outputs": [
    {
     "data": {
      "text/plain": [
       "'刘书赵洋结了可买起，是里矿'"
      ]
     },
     "execution_count": 14,
     "metadata": {},
     "output_type": "execute_result"
    }
   ],
   "source": [
    "a = '刘稚书和赵文洋要结婚了，可是买不起房，但是家里有矿'\n",
    "a[0:25:2]"
   ]
  },
  {
   "cell_type": "code",
   "execution_count": 28,
   "metadata": {},
   "outputs": [],
   "source": [
    "def search(index):\n",
    "    path = '/Users/xym/Desktop/mail.txt'\n",
    "    with open(file=path,mode='r') as f:\n",
    "        for i in range(1000):\n",
    "            line = f.readline()\n",
    "            new_line = line[0:index+1]\n",
    "            if new_line [-1] == \"@\":\n",
    "                print(new_line[:-1]) #不取@"
   ]
  },
  {
   "cell_type": "code",
   "execution_count": 31,
   "metadata": {},
   "outputs": [
    {
     "name": "stdout",
     "output_type": "stream",
     "text": [
      "326719610\n",
      "519203740\n",
      "258109664\n",
      "690326585\n",
      "275141514\n",
      "442852203\n",
      "350191363\n",
      "295088868\n",
      "279690888\n",
      "373017622\n",
      "349094820\n",
      "328184981\n",
      "457271598\n",
      "462743251\n",
      "349127247\n",
      "165279069\n",
      "385368599\n",
      "327449705\n",
      "245911391\n",
      "553434719\n",
      "154790981\n",
      "277054780\n",
      "742807885\n",
      "651493465\n",
      "472935516\n",
      "270153221\n",
      "281131064\n",
      "352750777\n",
      "139615818\n",
      "404674604\n",
      "669505006\n",
      "654667355\n",
      "327814459\n",
      "929112005\n",
      "895190322\n",
      "494084700\n",
      "616085845\n",
      "545916109\n",
      "819663594\n",
      "327332417\n",
      "345667776\n",
      "287933625\n",
      "645291357\n",
      "397751852\n",
      "811437256\n",
      "350842318\n",
      "369463588\n",
      "262634151\n",
      "412478374\n",
      "294550353\n",
      "441905149\n",
      "646611966\n",
      "420293073\n",
      "273039753\n",
      "906769956\n",
      "362922140\n",
      "370640248\n",
      "442555707\n",
      "284782523\n",
      "434777683\n",
      "195777728\n",
      "gaven2005\n",
      "136886754\n",
      "964780391\n",
      "805021028\n",
      "673992339\n",
      "542757803\n",
      "285300892\n",
      "279082878\n",
      "421550662\n",
      "874603938\n",
      "379699205\n",
      "345888324\n",
      "359795798\n",
      "534080117\n",
      "609481068\n",
      "280469268\n",
      "372748477\n",
      "529234962\n",
      "381274203\n",
      "273192670\n",
      "381411531\n",
      "173835671\n",
      "709538225\n",
      "164744460\n",
      "386936906\n",
      "270152141\n",
      "671145230\n",
      "260666622\n",
      "249182135\n",
      "978567526\n",
      "530452274\n",
      "503918221\n",
      "451772348\n",
      "136713731\n",
      "755707606\n",
      "424466022\n",
      "362729671\n",
      "732276554\n",
      "315429494\n",
      "514944216\n",
      "838997930\n",
      "290037231\n",
      "262102316\n",
      "344458112\n",
      "312340060\n",
      "530785177\n",
      "251679682\n",
      "379736561\n",
      "263388942\n",
      "506596210\n",
      "444577251\n",
      "504846946\n",
      "106319986\n",
      "385774199\n",
      "435042136\n",
      "756987292\n",
      "539877326\n",
      "771591042\n",
      "107561490\n",
      "435341513\n",
      "122663500\n",
      "525465605\n",
      "625212968\n",
      "463514745\n",
      "695450917\n",
      "332193582\n",
      "262262673\n",
      "315004809\n",
      "303667703\n",
      "lyx397150\n",
      "285743078\n",
      "364684778\n",
      "724207000\n",
      "taoxuehai\n",
      "460780222\n",
      "351441980\n",
      "526238593\n",
      "183995222\n",
      "394816921\n",
      "820377226\n",
      "382931699\n",
      "965508979\n",
      "710071716\n",
      "406702526\n",
      "105333196\n",
      "442551936\n",
      "459070989\n",
      "410808398\n",
      "515336786\n",
      "619757675\n",
      "737609396\n",
      "980708687\n",
      "157607392\n",
      "356313509\n",
      "170920940\n",
      "853316609\n",
      "652004084\n",
      "121402043\n",
      "609991609\n",
      "495045498\n",
      "344633769\n",
      "331876155\n",
      "331944006\n",
      "416152950\n",
      "532735556\n",
      "769378021\n",
      "656549498\n",
      "510356691\n",
      "421387046\n",
      "645316407\n",
      "529288874\n",
      "503476027\n",
      "285867288\n",
      "164905533\n",
      "757923249\n",
      "182268431\n",
      "893254058\n",
      "332763623\n",
      "534831706\n",
      "947128908\n",
      "232411914\n",
      "512496087\n",
      "307892816\n",
      "258917206\n",
      "532079535\n",
      "695959148\n",
      "275122717\n",
      "331037772\n",
      "290638015\n",
      "532220793\n",
      "373757198\n",
      "241525881\n",
      "769867223\n",
      "370646337\n",
      "289733254\n",
      "281490538\n",
      "524425881\n",
      "240513077\n",
      "569957350\n",
      "401161209\n",
      "562427718\n",
      "465414753\n",
      "251280787\n",
      "346261749\n",
      "372656058\n",
      "303917882\n",
      "246103194\n",
      "358009371\n",
      "479243750\n",
      "250360642\n",
      "469771823\n",
      "406516900\n",
      "335040770\n",
      "349344946\n",
      "360338405\n",
      "459201853\n",
      "188171417\n",
      "tiger0823\n",
      "594548776\n",
      "195436209\n",
      "376051057\n",
      "914989718\n",
      "356829842\n",
      "313770901\n",
      "326574091\n",
      "361581083\n",
      "515824209\n",
      "289231933\n",
      "405687247\n",
      "381817297\n",
      "714374793\n",
      "857722682\n",
      "920412138\n",
      "385733304\n",
      "307581238\n",
      "511485895\n",
      "314090211\n",
      "308217926\n",
      "122304714\n",
      "908779773\n",
      "449105617\n",
      "262945677\n",
      "375204531\n",
      "969838563\n",
      "598949018\n",
      "332633819\n",
      "510098495\n",
      "383634114\n",
      "472663566\n",
      "181729393\n",
      "869356868\n",
      "385681036\n",
      "407178814\n",
      "282393629\n",
      "346963213\n",
      "357485233\n",
      "conglin66\n",
      "124183777\n",
      "359786341\n",
      "252343460\n",
      "340639885\n",
      "why681116\n",
      "251277002\n",
      "873807917\n",
      "512048194\n",
      "lidongasw\n",
      "718389859\n",
      "233065172\n",
      "398378117\n",
      "605254169\n",
      "408192936\n",
      "412259079\n",
      "895874055\n",
      "850319490\n",
      "151427286\n",
      "498127082\n",
      "418219902\n",
      "411327681\n",
      "693166285\n",
      "310226429\n",
      "649171178\n",
      "251106993\n",
      "304796286\n",
      "184703010\n",
      "340185983\n",
      "349039144\n",
      "690699097\n",
      "406836845\n",
      "337404915\n",
      "309668784\n",
      "214804531\n",
      "364301296\n",
      "122231438\n",
      "260770434\n",
      "335243148\n",
      "596077660\n",
      "743604961\n",
      "345761555\n",
      "838925010\n",
      "721446446\n",
      "414333820\n",
      "361266373\n",
      "vivid7750\n",
      "417658669\n",
      "507260953\n",
      "774720231\n",
      "121191460\n",
      "261026019\n",
      "172489277\n",
      "270735046\n",
      "296979242\n",
      "125673775\n",
      "181228271\n",
      "592775248\n",
      "253107462\n",
      "694717186\n",
      "371886615\n",
      "417135509\n",
      "416649624\n",
      "379084394\n",
      "274002559\n",
      "583417996\n",
      "454731008\n",
      "278224342\n",
      "850764203\n",
      "784466517\n",
      "371545070\n",
      "445909643\n",
      "774660057\n",
      "372395504\n",
      "138896264\n",
      "154433684\n",
      "104890168\n",
      "627289873\n",
      "359629599\n",
      "382992271\n",
      "472918240\n",
      "271450352\n",
      "379824312\n",
      "429589159\n",
      "303104409\n",
      "372132833\n",
      "946682926\n",
      "809428173\n",
      "526045556\n",
      "274363309\n",
      "417617628\n",
      "442078071\n",
      "513534127\n",
      "631546728\n",
      "314544941\n",
      "327511948\n",
      "463310752\n",
      "853528797\n",
      "270068655\n",
      "419350405\n",
      "248722665\n",
      "343372562\n",
      "361921846\n",
      "120509355\n",
      "120415323\n",
      "497358772\n",
      "471427981\n",
      "634226457\n",
      "676913855\n",
      "445634514\n",
      "258117324\n",
      "425318677\n",
      "402830736\n",
      "350234147\n",
      "550546824\n",
      "377424892\n",
      "284062174\n",
      "505910378\n",
      "181402929\n",
      "441525933\n",
      "906502971\n",
      "183933870\n",
      "spider_12\n",
      "920146829\n",
      "438670593\n",
      "346974694\n",
      "690860456\n",
      "664760916\n",
      "715859565\n",
      "844987961\n",
      "183108615\n",
      "250474777\n",
      "294852488\n",
      "402398900\n",
      "555866658\n",
      "584506405\n",
      "491675832\n",
      "342547957\n",
      "772901866\n",
      "438101320\n",
      "517863666\n",
      "316874969\n",
      "470909861\n",
      "378120405\n",
      "597099510\n",
      "315861225\n",
      "124120307\n",
      "262140029\n",
      "469466053\n",
      "649227826\n",
      "270915063\n",
      "247215098\n",
      "308088483\n",
      "623375376\n",
      "100890419\n",
      "273310824\n",
      "420177249\n",
      "157213341\n",
      "100201291\n",
      "231686572\n",
      "366040520\n",
      "363841288\n",
      "107780198\n",
      "864216188\n",
      "584297235\n",
      "460061618\n",
      "461000424\n",
      "674076011\n",
      "457677144\n",
      "272764771\n",
      "330661997\n",
      "526260528\n",
      "546149277\n",
      "383941745\n",
      "371988459\n",
      "624247670\n",
      "452062460\n",
      "461231159\n",
      "470286643\n",
      "359157246\n",
      "372717855\n",
      "179742067\n",
      "464598142\n",
      "kjkjjkkkk\n",
      "416791152\n",
      "625039021\n",
      "404282573\n",
      "sunjiashi\n",
      "540175660\n",
      "673424902\n",
      "445021783\n",
      "619367467\n",
      "342502298\n",
      "745212473\n",
      "243164773\n",
      "327677623\n",
      "405582897\n",
      "275524332\n",
      "624681934\n",
      "670927480\n",
      "389945046\n",
      "526556712\n",
      "584631186\n",
      "348156780\n",
      "370284956\n",
      "394840477\n",
      "860457343\n",
      "181369183\n",
      "706308976\n",
      "dj8601802\n",
      "403376908\n",
      "455080378\n",
      "517177095\n",
      "641571923\n",
      "253121268\n",
      "380616871\n",
      "346190942\n",
      "541254625\n",
      "258890861\n",
      "390026357\n",
      "452135811\n",
      "502233506\n",
      "455797063\n",
      "710811181\n",
      "415078905\n",
      "450518335\n",
      "331371824\n",
      "441488869\n",
      "414091302\n",
      "691117212\n",
      "276776251\n",
      "417554787\n",
      "314478419\n",
      "156418296\n",
      "151313705\n",
      "410473586\n",
      "296176922\n",
      "807059207\n",
      "248613535\n",
      "764604460\n",
      "670368690\n",
      "583163550\n",
      "550877985\n",
      "313686104\n",
      "332970952\n",
      "290918162\n",
      "424469003\n",
      "422900934\n",
      "351575379\n",
      "251655463\n",
      "934395319\n",
      "444159050\n",
      "448398186\n",
      "353237850\n",
      "841531107\n",
      "365821883\n",
      "597921645\n",
      "363537981\n",
      "285498856\n",
      "770617772\n",
      "123561948\n",
      "672806391\n",
      "565443279\n",
      "445666592\n",
      "422927863\n",
      "599091376\n",
      "mxk179123\n",
      "848219423\n",
      "530224798\n",
      "429428388\n",
      "318294453\n",
      "775007168\n",
      "348370984\n",
      "734496345\n",
      "359521140\n",
      "568210945\n",
      "309415328\n",
      "393440322\n",
      "399585822\n",
      "971334753\n",
      "626340508\n",
      "811130312\n",
      "262972670\n",
      "640950151\n",
      "245601384\n",
      "582295521\n",
      "356122162\n",
      "535006798\n",
      "156451277\n",
      "644328722\n",
      "270098222\n",
      "301045744\n",
      "279575014\n",
      "349114207\n",
      "269247311\n",
      "273175703\n",
      "394838506\n",
      "383454931\n",
      "379098250\n",
      "529786640\n",
      "794052235\n",
      "330376262\n",
      "389639163\n",
      "635616742\n",
      "542068218\n",
      "550746852\n",
      "441967457\n",
      "952390090\n",
      "362012861\n",
      "624369211\n",
      "435407413\n",
      "450489958\n",
      "412766834\n",
      "381222694\n",
      "317667345\n",
      "452396217\n",
      "905972008\n",
      "277676908\n",
      "616100662\n",
      "258016467\n",
      "305241789\n",
      "378572841\n",
      "475315698\n",
      "270888541\n",
      "785244762\n",
      "100900770\n",
      "543422355\n",
      "937060660\n",
      "794939585\n",
      "394091050\n",
      "449425048\n",
      "514598504\n",
      "367195437\n",
      "747773319\n",
      "746976907\n",
      "350912216\n",
      "116225146\n",
      "276390802\n",
      "120888496\n",
      "305204846\n",
      "515483150\n",
      "461805026\n",
      "450996664\n",
      "634523913\n",
      "549465003\n",
      "584392918\n",
      "949401610\n",
      "418657549\n",
      "603326380\n",
      "454116395\n",
      "272215711\n",
      "759493293\n",
      "865599902\n",
      "345160088\n",
      "120028158\n",
      "358016108\n",
      "337800829\n",
      "654067762\n",
      "809254451\n",
      "492109171\n",
      "505799097\n",
      "624310277\n",
      "492609164\n",
      "wenle6970\n",
      "408931866\n",
      "356901390\n",
      "576854128\n",
      "395457269\n",
      "cai441422\n",
      "401574531\n",
      "461701429\n",
      "410862039\n",
      "305905155\n",
      "149823171\n",
      "362054737\n",
      "191553014\n",
      "349878132\n",
      "578162780\n",
      "278533406\n",
      "561927342\n",
      "106062417\n",
      "339817552\n",
      "837174671\n",
      "595774867\n",
      "247469654\n",
      "672459569\n",
      "490735532\n",
      "464083615\n",
      "379416045\n",
      "505089150\n",
      "627914744\n",
      "453341222\n",
      "315531180\n",
      "897289516\n",
      "568398632\n",
      "eric.chan\n",
      "357006255\n",
      "523905904\n",
      "790571765\n",
      "344974501\n",
      "465724834\n",
      "563952348\n",
      "195106434\n",
      "309198946\n",
      "951892520\n",
      "290388130\n",
      "550553668\n",
      "521049346\n",
      "824376670\n",
      "283509772\n",
      "546012314\n",
      "395444830\n",
      "463638469\n",
      "383853039\n",
      "476187332\n",
      "523275419\n",
      "444605337\n",
      "821937666\n",
      "447529322\n",
      "358428949\n",
      "228905428\n",
      "381063216\n",
      "364571610\n",
      "591521431\n"
     ]
    }
   ],
   "source": [
    "search(9)"
   ]
  },
  {
   "cell_type": "code",
   "execution_count": 32,
   "metadata": {},
   "outputs": [
    {
     "name": "stdout",
     "output_type": "stream",
     "text": [
      "kcqer\n",
      "bn922\n",
      "11000\n",
      "tenQQ\n",
      "jiw23\n",
      "65464\n",
      "max74\n",
      "55555\n",
      "lw45j\n",
      "qerjh\n",
      "jijij\n",
      "45646\n",
      "zxqcw\n",
      "djzjh\n"
     ]
    }
   ],
   "source": [
    "search(5)"
   ]
  },
  {
   "cell_type": "markdown",
   "metadata": {},
   "source": [
    "## 链接运算符 + 和复制运算符 *\n",
    "- \\+ 链接多个字符串，同时''.join()也是\n",
    "- \\* 复制多个字符串"
   ]
  },
  {
   "cell_type": "code",
   "execution_count": 33,
   "metadata": {},
   "outputs": [
    {
     "data": {
      "text/plain": [
       "'aaaaaaaaaa'"
      ]
     },
     "execution_count": 33,
     "metadata": {},
     "output_type": "execute_result"
    }
   ],
   "source": [
    "a = 'a'\n",
    "b = 'b'\n",
    "a * 10  # 只能相乘 相加，不能相减 相除"
   ]
  },
  {
   "cell_type": "code",
   "execution_count": 34,
   "metadata": {},
   "outputs": [
    {
     "data": {
      "text/plain": [
       "'j!o!k!e!r'"
      ]
     },
     "execution_count": 34,
     "metadata": {},
     "output_type": "execute_result"
    }
   ],
   "source": [
    "'!'.join('joker')"
   ]
  },
  {
   "cell_type": "markdown",
   "metadata": {},
   "source": [
    "## in 和 not in 运算符\n",
    "- in :判断某个字符是否在字符串内 \n",
    "- not in ：判断某个字符是否不在字符串内\n",
    "- 返回的是布尔值"
   ]
  },
  {
   "cell_type": "code",
   "execution_count": 35,
   "metadata": {},
   "outputs": [
    {
     "data": {
      "text/plain": [
       "True"
      ]
     },
     "execution_count": 35,
     "metadata": {},
     "output_type": "execute_result"
    }
   ],
   "source": [
    "'J' in 'Joker'"
   ]
  },
  {
   "cell_type": "markdown",
   "metadata": {},
   "source": [
    "## 比较字符串\n",
    "-  ==, !=, >=, <=, >, <\n",
    "- 依照ASCII码值进行比较"
   ]
  },
  {
   "cell_type": "code",
   "execution_count": 37,
   "metadata": {},
   "outputs": [
    {
     "data": {
      "text/plain": [
       "False"
      ]
     },
     "execution_count": 37,
     "metadata": {},
     "output_type": "execute_result"
    }
   ],
   "source": [
    "'a' >= 'b'"
   ]
  },
  {
   "cell_type": "markdown",
   "metadata": {},
   "source": [
    "## 测试字符串\n",
    "![](../Photo/99.png)\n",
    "- 注意：\n",
    "> - isalnum() 中是不能包含空格，否则会返回False"
   ]
  },
  {
   "cell_type": "code",
   "execution_count": 38,
   "metadata": {},
   "outputs": [
    {
     "data": {
      "text/plain": [
       "True"
      ]
     },
     "execution_count": 38,
     "metadata": {},
     "output_type": "execute_result"
    }
   ],
   "source": [
    "a = 'jhfurhcnj'\n",
    "a.isalnum()"
   ]
  },
  {
   "cell_type": "code",
   "execution_count": 42,
   "metadata": {},
   "outputs": [
    {
     "name": "stdout",
     "output_type": "stream",
     "text": [
      ":>>1246VH567FTH\n",
      "密码必须有小写\n"
     ]
    }
   ],
   "source": [
    "password = input(':>>')\n",
    "N1 = 0 #大写\n",
    "N2 = 0 #小写\n",
    "N3 = 0 #数字\n",
    "if len(password) <= 8:\n",
    "    print('密码必须大于8位')\n",
    "for i in password:\n",
    "    if i.isupper():\n",
    "        N1 += 1\n",
    "    if i.islower():\n",
    "        N2 += 1\n",
    "    if i.isdigit():\n",
    "        N3 += 1\n",
    "if N1 == 0:\n",
    "    print('密码必须有大写')\n",
    "if N2 == 0:\n",
    "    print('密码必须有小写')\n",
    "if N3 == 0:\n",
    "    print('密码必须有数字')\n"
   ]
  },
  {
   "cell_type": "markdown",
   "metadata": {},
   "source": [
    "## 搜索子串\n",
    "![](../Photo/100.png)"
   ]
  },
  {
   "cell_type": "code",
   "execution_count": 43,
   "metadata": {},
   "outputs": [
    {
     "data": {
      "text/plain": [
       "True"
      ]
     },
     "execution_count": 43,
     "metadata": {},
     "output_type": "execute_result"
    }
   ],
   "source": [
    "a = 'J'\n",
    "b = 'Joker'\n",
    "b.startswith(a)"
   ]
  },
  {
   "cell_type": "code",
   "execution_count": 44,
   "metadata": {},
   "outputs": [
    {
     "data": {
      "text/plain": [
       "4"
      ]
     },
     "execution_count": 44,
     "metadata": {},
     "output_type": "execute_result"
    }
   ],
   "source": [
    "b = 'JKKKK'\n",
    "b.count('K')"
   ]
  },
  {
   "cell_type": "code",
   "execution_count": 45,
   "metadata": {},
   "outputs": [
    {
     "data": {
      "text/plain": [
       "1"
      ]
     },
     "execution_count": 45,
     "metadata": {},
     "output_type": "execute_result"
    }
   ],
   "source": [
    "b = '姚蕾蕾，刚刚放屁，还不承认'\n",
    "b.find('蕾')"
   ]
  },
  {
   "cell_type": "code",
   "execution_count": 48,
   "metadata": {},
   "outputs": [
    {
     "data": {
      "text/plain": [
       "-1"
      ]
     },
     "execution_count": 48,
     "metadata": {},
     "output_type": "execute_result"
    }
   ],
   "source": [
    "b = '姚蕾蕾，刚刚放屁，还不承认'\n",
    "b.find('刘蕾蕾')"
   ]
  },
  {
   "cell_type": "code",
   "execution_count": 46,
   "metadata": {},
   "outputs": [
    {
     "data": {
      "text/plain": [
       "10"
      ]
     },
     "execution_count": 46,
     "metadata": {},
     "output_type": "execute_result"
    }
   ],
   "source": [
    "b.rfind('不')"
   ]
  },
  {
   "cell_type": "code",
   "execution_count": 47,
   "metadata": {},
   "outputs": [
    {
     "data": {
      "text/plain": [
       "2"
      ]
     },
     "execution_count": 47,
     "metadata": {},
     "output_type": "execute_result"
    }
   ],
   "source": [
    "b.rfind('蕾')"
   ]
  },
  {
   "cell_type": "code",
   "execution_count": null,
   "metadata": {},
   "outputs": [],
   "source": [
    "def search(index):\n",
    "    path = '/Users/xym/Desktop/mail.txt'\n",
    "    with open(file=path,mode='r') as f:\n",
    "        for i in range(1000):\n",
    "            line = f.readline()\n",
    "            "
   ]
  },
  {
   "cell_type": "markdown",
   "metadata": {},
   "source": [
    "## 转换字符串\n",
    "![](../Photo/101.png)"
   ]
  },
  {
   "cell_type": "markdown",
   "metadata": {},
   "source": [
    "## 删除字符串\n",
    "![](../Photo/146.png)"
   ]
  },
  {
   "cell_type": "markdown",
   "metadata": {},
   "source": [
    "## 格式化字符串\n",
    "![](../Photo/103.png)"
   ]
  },
  {
   "cell_type": "code",
   "execution_count": null,
   "metadata": {},
   "outputs": [],
   "source": [
    "for i in "
   ]
  },
  {
   "cell_type": "markdown",
   "metadata": {},
   "source": [
    "## EP:\n",
    "- 1\n",
    "![](../Photo/104.png)\n",
    "- 2 \n",
    "    随机参数100个数字，将www.baidu.com/?page=进行拼接"
   ]
  },
  {
   "cell_type": "markdown",
   "metadata": {},
   "source": [
    "## Python高级使用方法 -- 字符串\n",
    "- 我们经常使用的方法实际上就是调用Python的运算重载\n",
    "![](../Photo/105.png)"
   ]
  },
  {
   "cell_type": "markdown",
   "metadata": {},
   "source": [
    "# Homework\n",
    "- 1\n",
    "![](../Photo/106.png)"
   ]
  },
  {
   "cell_type": "code",
   "execution_count": 1,
   "metadata": {},
   "outputs": [
    {
     "name": "stdout",
     "output_type": "stream",
     "text": [
      "输入一个社会安全号码:>>234-35-8754\n"
     ]
    },
    {
     "ename": "ValueError",
     "evalue": "invalid literal for int() with base 10: '234-35-8754'",
     "output_type": "error",
     "traceback": [
      "\u001b[1;31m---------------------------------------------------------------------------\u001b[0m",
      "\u001b[1;31mValueError\u001b[0m                                Traceback (most recent call last)",
      "\u001b[1;32m<ipython-input-1-d128781f3ad2>\u001b[0m in \u001b[0;36m<module>\u001b[1;34m\u001b[0m\n\u001b[1;32m----> 1\u001b[1;33m \u001b[0mnum\u001b[0m \u001b[1;33m=\u001b[0m \u001b[0mint\u001b[0m\u001b[1;33m(\u001b[0m\u001b[0minput\u001b[0m\u001b[1;33m(\u001b[0m\u001b[1;34m\"输入一个社会安全号码:>>\"\u001b[0m\u001b[1;33m)\u001b[0m\u001b[1;33m)\u001b[0m\u001b[1;33m\u001b[0m\u001b[1;33m\u001b[0m\u001b[0m\n\u001b[0m\u001b[0;32m      2\u001b[0m \u001b[0md\u001b[0m \u001b[1;33m=\u001b[0m \u001b[0mnum\u001b[0m\u001b[1;33m(\u001b[0m\u001b[1;33m)\u001b[0m\u001b[1;33m\u001b[0m\u001b[1;33m\u001b[0m\u001b[0m\n\u001b[0;32m      3\u001b[0m \u001b[1;32mdef\u001b[0m \u001b[0mxym_\u001b[0m\u001b[1;33m(\u001b[0m\u001b[1;33m)\u001b[0m\u001b[1;33m:\u001b[0m\u001b[1;33m\u001b[0m\u001b[1;33m\u001b[0m\u001b[0m\n\u001b[0;32m      4\u001b[0m     \u001b[1;32mif\u001b[0m \u001b[0mnum\u001b[0m \u001b[1;32mis\u001b[0m \u001b[0mddd\u001b[0m\u001b[1;33m-\u001b[0m\u001b[0mdd\u001b[0m\u001b[1;33m-\u001b[0m\u001b[0mdddd\u001b[0m\u001b[1;33m:\u001b[0m\u001b[1;33m\u001b[0m\u001b[1;33m\u001b[0m\u001b[0m\n\u001b[0;32m      5\u001b[0m         \u001b[0mprint\u001b[0m\u001b[1;33m(\u001b[0m\u001b[1;34m\"Valid SSN\"\u001b[0m\u001b[1;33m)\u001b[0m\u001b[1;33m\u001b[0m\u001b[1;33m\u001b[0m\u001b[0m\n",
      "\u001b[1;31mValueError\u001b[0m: invalid literal for int() with base 10: '234-35-8754'"
     ]
    }
   ],
   "source": [
    "num = int(input(\"输入一个社会安全号码:>>\"))\n",
    "d = num()\n",
    "def xym_():\n",
    "    if num is ddd-dd-dddd:\n",
    "        print(\"Valid SSN\")\n",
    "    else:\n",
    "        print(\"Invalid SSN\")"
   ]
  },
  {
   "cell_type": "markdown",
   "metadata": {},
   "source": [
    "- 2\n",
    "![](../Photo/107.png)"
   ]
  },
  {
   "cell_type": "code",
   "execution_count": null,
   "metadata": {},
   "outputs": [],
   "source": []
  },
  {
   "cell_type": "markdown",
   "metadata": {},
   "source": [
    "- 3\n",
    "![](../Photo/108.png)"
   ]
  },
  {
   "cell_type": "code",
   "execution_count": null,
   "metadata": {},
   "outputs": [],
   "source": []
  },
  {
   "cell_type": "markdown",
   "metadata": {},
   "source": [
    "- 4\n",
    "![](../Photo/109.png)"
   ]
  },
  {
   "cell_type": "code",
   "execution_count": 2,
   "metadata": {},
   "outputs": [],
   "source": [
    "def countLetters(s):\n",
    "    N=0\n",
    "    for i in s:\n",
    "        if i.isupper(): #检验大写\n",
    "            N+=1\n",
    "        if i.islower(): #检验小写\n",
    "            N+=1\n",
    "        print(N)"
   ]
  },
  {
   "cell_type": "code",
   "execution_count": 4,
   "metadata": {},
   "outputs": [
    {
     "name": "stdout",
     "output_type": "stream",
     "text": [
      "1\n",
      "2\n",
      "3\n",
      "4\n",
      "5\n",
      "6\n"
     ]
    }
   ],
   "source": [
    " countLetters(s='gyRdFY')"
   ]
  },
  {
   "cell_type": "markdown",
   "metadata": {},
   "source": [
    "- 5\n",
    "![](../Photo/110.png)"
   ]
  },
  {
   "cell_type": "code",
   "execution_count": null,
   "metadata": {},
   "outputs": [],
   "source": []
  },
  {
   "cell_type": "markdown",
   "metadata": {},
   "source": [
    "- 6\n",
    "![](../Photo/111.png)"
   ]
  },
  {
   "cell_type": "code",
   "execution_count": 21,
   "metadata": {},
   "outputs": [],
   "source": [
    "def reverse(s):    #reverse()将列表的所有元素倒序\n",
    "    \"\"\"\n",
    "    调用reverse（）反向打印字符串\n",
    "    Parameters:\n",
    "    --------\n",
    "        a:调用reverse（）函数\n",
    "    Note:\n",
    "    ----\n",
    "        1.将输入的字符串必须转换成列表，因为reverse（）是将列表的所有元素倒序\n",
    "    \"\"\"\n",
    "    s = input(\"输入>>:\")\n",
    "    s1 = list(s)\n",
    "    s1.reverse()\n",
    "    print(s1)"
   ]
  },
  {
   "cell_type": "code",
   "execution_count": 22,
   "metadata": {},
   "outputs": [
    {
     "ename": "NameError",
     "evalue": "name 's' is not defined",
     "output_type": "error",
     "traceback": [
      "\u001b[1;31m---------------------------------------------------------------------------\u001b[0m",
      "\u001b[1;31mNameError\u001b[0m                                 Traceback (most recent call last)",
      "\u001b[1;32m<ipython-input-22-d1ce2c85f07a>\u001b[0m in \u001b[0;36m<module>\u001b[1;34m\u001b[0m\n\u001b[1;32m----> 1\u001b[1;33m \u001b[0mreverse\u001b[0m\u001b[1;33m(\u001b[0m\u001b[0ms\u001b[0m\u001b[1;33m)\u001b[0m\u001b[1;33m\u001b[0m\u001b[1;33m\u001b[0m\u001b[0m\n\u001b[0m",
      "\u001b[1;31mNameError\u001b[0m: name 's' is not defined"
     ]
    }
   ],
   "source": [
    "reverse(s)"
   ]
  },
  {
   "cell_type": "markdown",
   "metadata": {},
   "source": [
    "- 7\n",
    "![](../Photo/112.png)"
   ]
  },
  {
   "cell_type": "code",
   "execution_count": null,
   "metadata": {},
   "outputs": [],
   "source": []
  },
  {
   "cell_type": "markdown",
   "metadata": {},
   "source": [
    "- 8\n",
    "![](../Photo/113.png)"
   ]
  },
  {
   "cell_type": "code",
   "execution_count": null,
   "metadata": {},
   "outputs": [],
   "source": []
  },
  {
   "cell_type": "markdown",
   "metadata": {},
   "source": [
    "- 9\n",
    "![](../Photo/114.png)"
   ]
  },
  {
   "cell_type": "code",
   "execution_count": null,
   "metadata": {},
   "outputs": [],
   "source": []
  }
 ],
 "metadata": {
  "kernelspec": {
   "display_name": "Python 3",
   "language": "python",
   "name": "python3"
  }
 },
 "nbformat": 4,
 "nbformat_minor": 2
}
