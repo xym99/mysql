{
 "cells": [
  {
   "cell_type": "markdown",
   "metadata": {},
   "source": [
    "# 选择\n",
    "## 布尔类型、数值和表达式\n",
    "![](../Photo/33.png)\n",
    "- 注意：比较运算符的相等是两个等号，一个等到代表赋值\n",
    "- 在Python中可以用整型0来代表False，其他数字来代表True\n",
    "- 后面还会讲到 is 在判断语句中的用发"
   ]
  },
  {
   "cell_type": "code",
   "execution_count": 3,
   "metadata": {},
   "outputs": [
    {
     "data": {
      "text/plain": [
       "False"
      ]
     },
     "execution_count": 3,
     "metadata": {},
     "output_type": "execute_result"
    }
   ],
   "source": [
    "a = 1\n",
    "b = '2'\n",
    "a == b"
   ]
  },
  {
   "cell_type": "code",
   "execution_count": 4,
   "metadata": {},
   "outputs": [
    {
     "data": {
      "text/plain": [
       "True"
      ]
     },
     "execution_count": 4,
     "metadata": {},
     "output_type": "execute_result"
    }
   ],
   "source": [
    "0 == 0"
   ]
  },
  {
   "cell_type": "code",
   "execution_count": 5,
   "metadata": {},
   "outputs": [
    {
     "data": {
      "text/plain": [
       "False"
      ]
     },
     "execution_count": 5,
     "metadata": {},
     "output_type": "execute_result"
    }
   ],
   "source": [
    "0 == 100"
   ]
  },
  {
   "cell_type": "code",
   "execution_count": 6,
   "metadata": {},
   "outputs": [
    {
     "data": {
      "text/plain": [
       "False"
      ]
     },
     "execution_count": 6,
     "metadata": {},
     "output_type": "execute_result"
    }
   ],
   "source": [
    "0 is 1"
   ]
  },
  {
   "cell_type": "markdown",
   "metadata": {},
   "source": [
    "## 字符串的比较使用ASCII值"
   ]
  },
  {
   "cell_type": "code",
   "execution_count": 7,
   "metadata": {},
   "outputs": [
    {
     "data": {
      "text/plain": [
       "False"
      ]
     },
     "execution_count": 7,
     "metadata": {},
     "output_type": "execute_result"
    }
   ],
   "source": [
    "a = 'Joker'\n",
    "b = 'hahaha'\n",
    "a > b"
   ]
  },
  {
   "cell_type": "code",
   "execution_count": 8,
   "metadata": {},
   "outputs": [
    {
     "data": {
      "text/plain": [
       "True"
      ]
     },
     "execution_count": 8,
     "metadata": {},
     "output_type": "execute_result"
    }
   ],
   "source": [
    "a = 'Joker'\n",
    "b = 'Jahaha'\n",
    "a > b"
   ]
  },
  {
   "cell_type": "markdown",
   "metadata": {},
   "source": [
    "## Markdown \n",
    "- https://github.com/younghz/Markdown"
   ]
  },
  {
   "cell_type": "markdown",
   "metadata": {},
   "source": [
    "## EP:\n",
    "- <img src=\"../Photo/34.png\"></img>\n",
    "- 输入一个数字，判断其实奇数还是偶数"
   ]
  },
  {
   "cell_type": "code",
   "execution_count": 9,
   "metadata": {},
   "outputs": [
    {
     "data": {
      "text/plain": [
       "0"
      ]
     },
     "execution_count": 9,
     "metadata": {},
     "output_type": "execute_result"
    }
   ],
   "source": [
    "int(False)"
   ]
  },
  {
   "cell_type": "code",
   "execution_count": 10,
   "metadata": {},
   "outputs": [
    {
     "data": {
      "text/plain": [
       "False"
      ]
     },
     "execution_count": 10,
     "metadata": {},
     "output_type": "execute_result"
    }
   ],
   "source": [
    "bool(0)"
   ]
  },
  {
   "cell_type": "code",
   "execution_count": 16,
   "metadata": {},
   "outputs": [
    {
     "name": "stdout",
     "output_type": "stream",
     "text": [
      "输入一个数字15\n",
      "15 是奇数\n"
     ]
    }
   ],
   "source": [
    "x = eval(input('输入一个数字'))\n",
    "if x%2==0:\n",
    "    print(x,'是偶数')\n",
    "else:\n",
    "    print(x,'是奇数')"
   ]
  },
  {
   "cell_type": "code",
   "execution_count": 17,
   "metadata": {},
   "outputs": [
    {
     "name": "stdout",
     "output_type": "stream",
     "text": [
      "输入一个数字45\n",
      "45 是奇数\n"
     ]
    }
   ],
   "source": [
    "x = eval(input('输入一个数字'))\n",
    "if bool(x%2):\n",
    "    print(x,'是奇数')\n",
    "else:\n",
    "    print(x,'是偶数')"
   ]
  },
  {
   "cell_type": "markdown",
   "metadata": {},
   "source": [
    "## 产生随机数字\n",
    "- 函数random.randint(a,b) 可以用来产生一个a和b之间且包括a和b的随机整数"
   ]
  },
  {
   "cell_type": "code",
   "execution_count": 3,
   "metadata": {},
   "outputs": [],
   "source": [
    "import random"
   ]
  },
  {
   "cell_type": "code",
   "execution_count": 19,
   "metadata": {},
   "outputs": [
    {
     "data": {
      "text/plain": [
       "2"
      ]
     },
     "execution_count": 19,
     "metadata": {},
     "output_type": "execute_result"
    }
   ],
   "source": [
    "random.randint(2,3)"
   ]
  },
  {
   "cell_type": "markdown",
   "metadata": {},
   "source": [
    "产生一个随机数，你去输入，如果你输入的数大于随机数，那么就告诉你太大了，反之，太小了，\n",
    "然后你一直输入，知道它满意为止"
   ]
  },
  {
   "cell_type": "code",
   "execution_count": 4,
   "metadata": {},
   "outputs": [],
   "source": [
    "x = random.randint(0,10)"
   ]
  },
  {
   "cell_type": "code",
   "execution_count": 8,
   "metadata": {},
   "outputs": [
    {
     "name": "stdout",
     "output_type": "stream",
     "text": [
      "y1\n",
      "太小了\n",
      "y2\n",
      "满意\n"
     ]
    }
   ],
   "source": [
    "while 1:\n",
    "    y = eval(input('y'))\n",
    "    if y > x:\n",
    "        print('太大了')\n",
    "    if y < x:\n",
    "        print('太小了')\n",
    "    if y == x:\n",
    "        print('满意')\n",
    "        break"
   ]
  },
  {
   "cell_type": "markdown",
   "metadata": {},
   "source": [
    "##  其他random方法\n",
    "- random.random 返回0.0到1.0之间前闭后开区间的随机浮点\n",
    "- random.randrange(a,b) 前闭后开"
   ]
  },
  {
   "cell_type": "code",
   "execution_count": 9,
   "metadata": {},
   "outputs": [
    {
     "data": {
      "text/plain": [
       "0.02702970875745092"
      ]
     },
     "execution_count": 9,
     "metadata": {},
     "output_type": "execute_result"
    }
   ],
   "source": [
    "random.random()"
   ]
  },
  {
   "cell_type": "code",
   "execution_count": 10,
   "metadata": {},
   "outputs": [
    {
     "data": {
      "text/plain": [
       "9"
      ]
     },
     "execution_count": 10,
     "metadata": {},
     "output_type": "execute_result"
    }
   ],
   "source": [
    "random.randrange(0,10)"
   ]
  },
  {
   "cell_type": "markdown",
   "metadata": {},
   "source": [
    "## EP：\n",
    "- 产生两个随机整数number1和number2，然后显示给用户，使用户输入数字的和，并判定其是否正确\n",
    "- 进阶:写一个随机序号点名程序"
   ]
  },
  {
   "cell_type": "code",
   "execution_count": 16,
   "metadata": {},
   "outputs": [
    {
     "name": "stdout",
     "output_type": "stream",
     "text": [
      "2 7\n"
     ]
    }
   ],
   "source": [
    "number1 = random.randint(0,10)\n",
    "number2 = random.randint(0,10)\n",
    "print(number1,number2)"
   ]
  },
  {
   "cell_type": "code",
   "execution_count": 21,
   "metadata": {},
   "outputs": [
    {
     "name": "stdout",
     "output_type": "stream",
     "text": [
      "x=9\n",
      "Correct\n"
     ]
    }
   ],
   "source": [
    "x = eval(input('x='))\n",
    "if x ==(number1 +number2):\n",
    "    print('Correct')\n",
    "else:\n",
    "    print('Error')"
   ]
  },
  {
   "cell_type": "code",
   "execution_count": 22,
   "metadata": {},
   "outputs": [
    {
     "name": "stdout",
     "output_type": "stream",
     "text": [
      "x=6\n",
      "Error\n",
      "x=7\n",
      "Error\n",
      "x=9\n",
      "Correct\n"
     ]
    }
   ],
   "source": [
    "for i in range(5):\n",
    "    x = eval(input('x='))\n",
    "    if x == (number1 + number2):\n",
    "        print('Correct')\n",
    "        break\n",
    "    else:\n",
    "        print('Error')"
   ]
  },
  {
   "cell_type": "code",
   "execution_count": 2,
   "metadata": {},
   "outputs": [
    {
     "name": "stdout",
     "output_type": "stream",
     "text": [
      "x=10\n",
      "2 可以被整除\n",
      "5 可以被整除\n"
     ]
    }
   ],
   "source": [
    "x = eval(input('x='))\n",
    "for i in range(2,x):\n",
    "    if x%i == 0:\n",
    "        print(i,'可以被整除')"
   ]
  },
  {
   "cell_type": "markdown",
   "metadata": {},
   "source": [
    "## if语句\n",
    "- 如果条件正确就执行一个单向if语句，亦即当条件为真的时候才执行if内部的语句\n",
    "- Python有很多选择语句:\n",
    "> - 单向if \n",
    "  - 双向if-else\n",
    "  - 嵌套if\n",
    "  - 多向if-elif-else\n",
    "  \n",
    "- 注意：当语句含有子语句的时候，那么一定至少要有一个缩进，也就是说如果有儿子存在，那么一定要缩进\n",
    "- 切记不可tab键和space混用，单用tab 或者 space\n",
    "- 当你输出的结果是无论if是否为真时都需要显示时，语句应该与if对齐"
   ]
  },
  {
   "cell_type": "markdown",
   "metadata": {},
   "source": [
    "## EP：\n",
    "- 用户输入一个数字，判断其实奇数还是偶数\n",
    "- 进阶：可以查看下4.5实例研究猜生日"
   ]
  },
  {
   "cell_type": "code",
   "execution_count": 1,
   "metadata": {},
   "outputs": [
    {
     "name": "stdout",
     "output_type": "stream",
     "text": [
      ">>16\n",
      "16 是奇数\n",
      "运行完毕\n"
     ]
    }
   ],
   "source": [
    "x = eval(input('>>'))\n",
    "if x % 2 == 0:\n",
    "    print(x,'是奇数')\n",
    "else:\n",
    "    print(x,'是偶数')\n",
    "print('运行完毕')"
   ]
  },
  {
   "cell_type": "markdown",
   "metadata": {},
   "source": [
    "## 双向if-else 语句\n",
    "- 如果条件为真，那么走if内部语句，否则走else内部语句"
   ]
  },
  {
   "cell_type": "code",
   "execution_count": 6,
   "metadata": {},
   "outputs": [
    {
     "name": "stdout",
     "output_type": "stream",
     "text": [
      "Money[y/n]:y\n",
      "再问一个问题\n",
      "Handsome[y/n]:y\n",
      "非常关键的一个问题\n",
      "Wife[y/n]:n\n",
      "马上结婚\n"
     ]
    }
   ],
   "source": [
    "money = input('Money[y/n]:')\n",
    "if money == 'y':\n",
    "    print('再问一个问题')\n",
    "    handsome = input('Handsome[y/n]:')\n",
    "    if handsome == 'y':\n",
    "        print('非常关键的一个问题')\n",
    "        wife = input('Wife[y/n]:')\n",
    "        if wife == 'y':\n",
    "            print('不拒绝')\n",
    "        else:\n",
    "            print('马上结婚')\n",
    "    else:\n",
    "        print('考虑一下')\n",
    "else:\n",
    "    print('Gun ')"
   ]
  },
  {
   "cell_type": "markdown",
   "metadata": {},
   "source": [
    "## EP：\n",
    "- 产生两个随机整数number1和number2，然后显示给用户，使用户输入数字，并判定其是否正确,如果正确打印“you‘re correct”，否则打印正确错误"
   ]
  },
  {
   "cell_type": "markdown",
   "metadata": {},
   "source": [
    "## 嵌套if 和多向if-elif-else\n",
    "![](../Photo/35.png)"
   ]
  },
  {
   "cell_type": "code",
   "execution_count": 7,
   "metadata": {},
   "outputs": [
    {
     "name": "stdout",
     "output_type": "stream",
     "text": [
      "A\n"
     ]
    }
   ],
   "source": [
    "score = 90\n",
    "if score >= 90:\n",
    "    grad = 'A'\n",
    "elif score >= 80:\n",
    "    grad = 'B'\n",
    "elif score >= 70:\n",
    "    grad = 'C'\n",
    "else:\n",
    "    grad = 'D'\n",
    "print(grad)"
   ]
  },
  {
   "cell_type": "code",
   "execution_count": 12,
   "metadata": {},
   "outputs": [
    {
     "name": "stdout",
     "output_type": "stream",
     "text": [
      "钱？[0/1]0\n",
      "帅？[0/1]1\n",
      "老婆？[0/1]1\n",
      "滚\n"
     ]
    }
   ],
   "source": [
    "x1 = eval(input('钱？[0/1]')) \n",
    "x2 = eval(input('帅？[0/1]')) \n",
    "x3 = eval(input('老婆？[0/1]')) \n",
    "x = x1 + x2 + x3\n",
    "if x == 0:\n",
    "    print('滚')\n",
    "if x == 2:\n",
    "    if x1 == 0:\n",
    "        print('滚')\n",
    "    elif x2 == 0:\n",
    "        print('考虑一下')\n",
    "    elif x3 == 0:\n",
    "        print('马上结婚')\n",
    "elif x == 3:\n",
    "    print('有老婆，也要考虑一下')"
   ]
  },
  {
   "cell_type": "code",
   "execution_count": 13,
   "metadata": {},
   "outputs": [
    {
     "name": "stdout",
     "output_type": "stream",
     "text": [
      "钱？[0/1]1\n",
      "帅？[0/1]1\n",
      "老婆？[0/1]1\n",
      "原配变小三\n"
     ]
    }
   ],
   "source": [
    "x1 = eval(input('钱？[0/1]')) \n",
    "if x1 == 1:\n",
    "    x2 = eval(input('帅？[0/1]')) \n",
    "    if x2 == 1:\n",
    "        x3 = eval(input('老婆？[0/1]'))\n",
    "        if x3 == 1:\n",
    "            print('原配变小三')\n",
    "        elif x3 == 0:\n",
    "            print('马上结婚')\n",
    "    elif x2 == 0:\n",
    "        print('考虑一下')\n",
    "elif x1 == 0:\n",
    "    print('滚')"
   ]
  },
  {
   "cell_type": "markdown",
   "metadata": {},
   "source": [
    "## EP：\n",
    "- 提示用户输入一个年份，然后显示表示这一年的动物\n",
    "![](../Photo/36.png)\n",
    "- 计算身体质量指数的程序\n",
    "- BMI = 以千克为单位的体重除以以米为单位的身高的平方\n",
    "![](../Photo/37.png)"
   ]
  },
  {
   "cell_type": "code",
   "execution_count": 22,
   "metadata": {},
   "outputs": [
    {
     "name": "stdout",
     "output_type": "stream",
     "text": [
      "YEAR：1999\n",
      "兔\n"
     ]
    }
   ],
   "source": [
    "year = eval(input('YEAR：'))\n",
    "res = year % 12\n",
    "if res == 0:\n",
    "    print('猴')\n",
    "elif res == 1:\n",
    "    print('鸡')\n",
    "elif res == 2:\n",
    "    print('狗')\n",
    "elif res == 3:\n",
    "    print('猪')\n",
    "elif res == 4:\n",
    "    print('鼠')\n",
    "elif res == 5:\n",
    "    print('牛')\n",
    "elif res == 6:\n",
    "    print('虎')\n",
    "elif res == 7:\n",
    "    print('兔')\n",
    "elif res == 8:\n",
    "    print('龙')\n",
    "elif res == 9:\n",
    "    print('蛇')\n",
    "elif res == 10:\n",
    "    print('马')\n",
    "elif res == 11:\n",
    "    print('羊')"
   ]
  },
  {
   "cell_type": "code",
   "execution_count": 20,
   "metadata": {},
   "outputs": [
    {
     "name": "stdout",
     "output_type": "stream",
     "text": [
      "身高1.60\n",
      "体重45\n",
      "超轻\n"
     ]
    }
   ],
   "source": [
    "身高 = eval(input('身高'))\n",
    "体重 = eval(input('体重'))\n",
    "BMI = 体重 / 身高**2\n",
    "if BMI<18.5:\n",
    "    print('超轻')\n",
    "elif 18.5<=BMI<25:\n",
    "    print('标准')\n",
    "elif 25<=BMI<30:\n",
    "    print('超重')\n",
    "else:\n",
    "    print('超级胖胖')"
   ]
  },
  {
   "cell_type": "markdown",
   "metadata": {},
   "source": [
    "## 逻辑运算符\n",
    "![](../Photo/38.png)"
   ]
  },
  {
   "cell_type": "markdown",
   "metadata": {},
   "source": [
    "![](../Photo/39.png)\n",
    "![](../Photo/40.png)"
   ]
  },
  {
   "cell_type": "markdown",
   "metadata": {},
   "source": [
    "## EP：\n",
    "- 判定闰年：一个年份如果能被4整除但不能被100整除，或者能被400整除，那么这个年份就是闰年\n",
    "- 提示用户输入一个年份，并返回是否是闰年\n",
    "- 提示用户输入一个数字，判断其是否为水仙花数"
   ]
  },
  {
   "cell_type": "code",
   "execution_count": 23,
   "metadata": {},
   "outputs": [
    {
     "name": "stdout",
     "output_type": "stream",
     "text": [
      "年份：2008\n",
      "闰年\n"
     ]
    }
   ],
   "source": [
    "year = eval(input('年份：'))\n",
    "if (year & 4 == 0 and year %100 != 0 or year %400 == 0):\n",
    "    print('闰年')\n",
    "else:\n",
    "    print('平年')"
   ]
  },
  {
   "cell_type": "code",
   "execution_count": 25,
   "metadata": {},
   "outputs": [
    {
     "name": "stdout",
     "output_type": "stream",
     "text": [
      "数字153\n",
      "是水仙花数\n"
     ]
    }
   ],
   "source": [
    "number = eval (input('数字'))\n",
    "bai = number // 100\n",
    "shi = number // 10 % 10\n",
    "ge = number % 10\n",
    "if bai **3 +shi **3 +ge **3 == number:\n",
    "    print('是水仙花数')\n",
    "else:\n",
    "    print('不是水仙花数')"
   ]
  },
  {
   "cell_type": "code",
   "execution_count": 1,
   "metadata": {},
   "outputs": [
    {
     "name": "stdout",
     "output_type": "stream",
     "text": [
      "153 是水仙花数\n",
      "370 是水仙花数\n",
      "371 是水仙花数\n",
      "407 是水仙花数\n"
     ]
    }
   ],
   "source": [
    "for number in range(100,1000):\n",
    "    bai = number // 100\n",
    "    shi = number // 10 % 10\n",
    "    ge = number % 10\n",
    "    if bai **3 +shi **3 +ge **3 == number:\n",
    "        print(number,'是水仙花数')"
   ]
  },
  {
   "cell_type": "markdown",
   "metadata": {},
   "source": [
    "## 实例研究：彩票\n",
    "![](../Photo/41.png)"
   ]
  },
  {
   "cell_type": "code",
   "execution_count": 8,
   "metadata": {},
   "outputs": [
    {
     "name": "stdout",
     "output_type": "stream",
     "text": [
      "中奖数字为： 84\n",
      "Please input number:84\n",
      "恭喜您中奖了!奖金为10000美元\n"
     ]
    }
   ],
   "source": [
    "import random\n",
    "number = random.randint(10,99)\n",
    "print('中奖数字为：',number)\n",
    "num1=eval(input(\"Please input number:\"))\n",
    "number_t=number//10\n",
    "number_g=number%10\n",
    "num1_t=num1//10\n",
    "num1_g=num1%10\n",
    "if number == num1 :#判断两个数是否相等\n",
    "    print('恭喜您中奖了!奖金为10000美元')\n",
    "elif number_t + number_g == num1_t + num1_g: \n",
    "    print('恭喜您中奖了!奖金为3000美元')\n",
    "elif (number_g == num1_g or number_g == num1_t) or (number_t == num1_g or number_t == num1_t):\n",
    "    print('恭喜您中奖了!奖金为1000美元')"
   ]
  },
  {
   "cell_type": "markdown",
   "metadata": {},
   "source": [
    "# Homework\n",
    "- 1\n",
    "![](../Photo/42.png)"
   ]
  },
  {
   "cell_type": "code",
   "execution_count": 13,
   "metadata": {},
   "outputs": [
    {
     "name": "stdout",
     "output_type": "stream",
     "text": [
      "Enter a, b, c,:1.0,3,1\n",
      "The roots are -0.3819660112501051 and -2.618033988749895\n"
     ]
    }
   ],
   "source": [
    "a,b,c = eval(input('Enter a, b, c,:'))\n",
    "res = b**2 - 4*a*c\n",
    "if res > 0:\n",
    "    r1 = (-b + (b**2-4*a*c)**0.5) / 2*a\n",
    "    r2 = (-b - (b**2-4*a*c)**0.5) / 2*a\n",
    "    print('The roots are',r1,'and',r2)\n",
    "elif res == 0:\n",
    "    r3 = (-b + (b**2-4*a*c)**0.5) / 2*a\n",
    "    print('The roots is',r3)\n",
    "elif res < 0:\n",
    "    print('The equation has no real roots')\n"
   ]
  },
  {
   "cell_type": "markdown",
   "metadata": {},
   "source": [
    " ·2          （游戏：学习加法）编写一个程序产生两个100以下的整数，然后提示用户输入这两个整数的和。\n",
    "             如果答案是正确的，程序报告结果为真，否则为假。这个程序类似于程序清单4-1。"
   ]
  },
  {
   "cell_type": "code",
   "execution_count": 15,
   "metadata": {},
   "outputs": [
    {
     "name": "stdout",
     "output_type": "stream",
     "text": [
      "x=68\n",
      "Error\n"
     ]
    }
   ],
   "source": [
    "import random\n",
    "number1 = random.randint(0,100)\n",
    "number2 = random.randint(0,100)\n",
    "x = eval(input('x='))\n",
    "if x ==(number1 +number2):\n",
    "    print('Correct')\n",
    "else:\n",
    "    print('Error')"
   ]
  },
  {
   "cell_type": "markdown",
   "metadata": {},
   "source": [
    "- 3\n",
    "![](../Photo/44.png)"
   ]
  },
  {
   "cell_type": "code",
   "execution_count": 9,
   "metadata": {},
   "outputs": [
    {
     "name": "stdout",
     "output_type": "stream",
     "text": [
      "Enter today'day:1\n",
      "Enter the numer of days elapsed since today:3\n",
      "Today is Monday and the Future day is Thursday\n"
     ]
    }
   ],
   "source": [
    "today = int(input('Enter today\\'day:'))\n",
    "plus = eval(input('Enter the numer of days elapsed since today:'))\n",
    "I=['Monday','Tuesday','Wednesday','Thursday','Friday','Saturday','Sunday']\n",
    "if today == 0:\n",
    "    x = plus%7+today\n",
    "    print('Today is',I[today-1],'and the Future day is',I[x-1])\n",
    "elif today == 1:\n",
    "    x = plus%7+today\n",
    "    print('Today is',I[today-1],'and the Future day is',I[x-1])\n",
    "elif today == 2:\n",
    "    x = plus%7+today\n",
    "    print('Today is',I[today-1],'and the Future day is',I[x-1])\n",
    "elif today == 3:\n",
    "    x = plus%7+today\n",
    "    print('Today is',I[today-1],'and the Future day is',I[x-1])\n",
    "elif today == 4:\n",
    "    x = plus%7+today\n",
    "    print('Today is',I[today-1],'and the Future day is',I[x-1])\n",
    "elif today == 5:\n",
    "    x = plus%7+today\n",
    "    print('Today is',I[today-1],'and the Future day is',I[x-1])\n",
    "elif today == 6:\n",
    "    x = plus%7+today\n",
    "    print('Today is',I[today-1],'and the Future day is',I[x-1])"
   ]
  },
  {
   "cell_type": "markdown",
   "metadata": {},
   "source": [
    "- 4\n",
    "![](../Photo/45.png)"
   ]
  },
  {
   "cell_type": "code",
   "execution_count": 3,
   "metadata": {},
   "outputs": [
    {
     "name": "stdout",
     "output_type": "stream",
     "text": [
      "a,b,c:5,1,8\n",
      "1 5 8\n"
     ]
    }
   ],
   "source": [
    "a,b,c = eval(input('a,b,c:'))\n",
    "if a>b>c:\n",
    "    print(c,b,a)\n",
    "elif a>c>b:\n",
    "    print(b,c,a)\n",
    "elif b>a>c:\n",
    "    print(c,a,b)\n",
    "elif b>c>a:\n",
    "    print(a,c,b)\n",
    "elif c>a>b:\n",
    "    print(b,a,c)\n",
    "elif c>b>a:\n",
    "    print(a,b,c)"
   ]
  },
  {
   "cell_type": "markdown",
   "metadata": {},
   "source": [
    "- 5\n",
    "![](../Photo/46.png)"
   ]
  },
  {
   "cell_type": "code",
   "execution_count": 6,
   "metadata": {},
   "outputs": [
    {
     "name": "stdout",
     "output_type": "stream",
     "text": [
      "Enter weight and price for package 1:50,24.59\n",
      "Enter weight and price for package 2:25,11.99\n",
      "Paclage 2 has the better price.\n"
     ]
    }
   ],
   "source": [
    "price1,weight1 = eval(input('Enter weight and price for package 1:'))\n",
    "price2,weight2 = eval(input('Enter weight and price for package 2:'))\n",
    "if (price1/weight1)>(price2/weight2):\n",
    "    print('Package 1 has the better price.')\n",
    "elif (price1/weight1)<(price2/weight2):\n",
    "    print('Paclage 2 has the better price.')"
   ]
  },
  {
   "cell_type": "markdown",
   "metadata": {},
   "source": [
    "- 6\n",
    "![](../Photo/47.png)"
   ]
  },
  {
   "cell_type": "code",
   "execution_count": 10,
   "metadata": {},
   "outputs": [
    {
     "name": "stdout",
     "output_type": "stream",
     "text": [
      "输入月份5\n",
      "输入年份1999\n",
      "1999 年 5 月 有31天\n"
     ]
    }
   ],
   "source": [
    "month = eval(input('输入月份'))\n",
    "year = eval(input('输入年份'))\n",
    "if ((year%4==0) and (year%100!=0)) or (year%400==0):\n",
    "    if month<=7:\n",
    "        if month%2==0:\n",
    "            if month==2:\n",
    "                print(year,'年',month,'月','有29天')\n",
    "            else:\n",
    "                print(year,'年',month,'月','有30天')\n",
    "        else:\n",
    "            print(year,'年',month,'月','有31天')\n",
    "    else:\n",
    "        if month%2==0:\n",
    "            print(year,'年',month,'月','有31天')\n",
    "        else:\n",
    "            print(year,'年',month,'月','有30天')\n",
    "else :\n",
    "    if month<=7:\n",
    "        if month%2==0:\n",
    "            if month==2:\n",
    "                print(year,'年',month,'月','有28天')\n",
    "            else:\n",
    "                print(year,'年',month,'月','有30天')\n",
    "        else:\n",
    "            print(year,'年',month,'月','有31天')\n",
    "    else:\n",
    "        if month%2==0:\n",
    "            print(year,'年',month,'月','有31天')\n",
    "        else:\n",
    "            print(year,'年',month,'月','有30天')"
   ]
  },
  {
   "cell_type": "markdown",
   "metadata": {},
   "source": [
    "- 7\n",
    "![](../Photo/48.png)"
   ]
  },
  {
   "cell_type": "code",
   "execution_count": 11,
   "metadata": {},
   "outputs": [
    {
     "name": "stdout",
     "output_type": "stream",
     "text": [
      "正面为1，反面为0 输入猜测数字1\n",
      "猜测正确\n"
     ]
    }
   ],
   "source": [
    "x = random.randint(0,1)\n",
    "y = eval(input('正面为1，反面为0 输入猜测数字'))\n",
    "if y == x:\n",
    "    print('猜测正确')\n",
    "else :\n",
    "    print('猜测错误')"
   ]
  },
  {
   "cell_type": "markdown",
   "metadata": {},
   "source": [
    "- 8\n",
    "![](../Photo/49.png)"
   ]
  },
  {
   "cell_type": "code",
   "execution_count": 12,
   "metadata": {},
   "outputs": [
    {
     "name": "stdout",
     "output_type": "stream",
     "text": [
      "剪刀为0，石头为1，布为2：2\n",
      "coumputer is 1\n",
      "mine won\n"
     ]
    }
   ],
   "source": [
    "import random\n",
    "computer = random.randint(0,2)\n",
    "m = eval(input('剪刀为0，石头为1，布为2：'))\n",
    "if computer>m:\n",
    "    print('coumputer is',computer)\n",
    "    print('computer won')\n",
    "if computer<m:\n",
    "    print('coumputer is',computer)\n",
    "    print('mine won')\n",
    "if computer==m:\n",
    "    print('coumputer is',computer)\n",
    "    print('it is a draw')"
   ]
  },
  {
   "cell_type": "markdown",
   "metadata": {},
   "source": [
    "- 9\n",
    "![](../Photo/50.png)"
   ]
  },
  {
   "cell_type": "code",
   "execution_count": 6,
   "metadata": {},
   "outputs": [
    {
     "name": "stdout",
     "output_type": "stream",
     "text": [
      "请输入年份2019\n",
      "请输入月份4\n",
      "请输入这是这个月的第几天29\n",
      "2.75\n",
      "今天是星期一\n"
     ]
    }
   ],
   "source": [
    "import math\n",
    "y = int(input(\"请输入年份\"))\n",
    "m = int(input(\"请输入月份\"))\n",
    "q = int(input(\"请输入这是这个月的第几天\"))\n",
    "a = q + ((26 * (m + 1)) / 10 )\n",
    "j = y // 100\n",
    "k = y % 100\n",
    "b = k + (k / 4) +(j / 4) + 5 * j\n",
    "h = (a+b)%7\n",
    "print(h)\n",
    "x = math.floor(h)\n",
    "if x == 0: \n",
    "    print(\"今天是星期六\")\n",
    "elif x == 2: \n",
    "            print(\"今天是星期一\")\n",
    "elif x == 3:\n",
    "            print(\"今天是星期二\")\n",
    "elif x == 4:\n",
    "            print(\"今天是星期三\")\n",
    "elif x == 5:\n",
    "            print(\"今天是星期四\")\n",
    "elif x == 6:\n",
    "            print(\"今天是星期五\")\n",
    "elif x == 1:\n",
    "            print(\"今天是星期日\")"
   ]
  },
  {
   "cell_type": "markdown",
   "metadata": {},
   "source": [
    "- 10\n",
    "![](../Photo/51.png)"
   ]
  },
  {
   "cell_type": "code",
   "execution_count": 3,
   "metadata": {},
   "outputs": [
    {
     "name": "stdout",
     "output_type": "stream",
     "text": [
      "The card you picked is the 红桃 of 8\n"
     ]
    }
   ],
   "source": [
    "import random\n",
    "colour=random.randint(1,4)\n",
    "value=random.randint(1,12)\n",
    "if colour==1:\n",
    "    h='梅花'\n",
    "elif colour==2:\n",
    "    h='红桃'\n",
    "elif colour==3:\n",
    "    h='方块'\n",
    "elif colour==4:\n",
    "    h='黑桃'\n",
    "elif value==1:\n",
    "    value='Ace'\n",
    "elif value==2:\n",
    "    value='2'\n",
    "elif value==3:\n",
    "    value='3'\n",
    "elif value==4:\n",
    "    value='4'\n",
    "elif value==5:\n",
    "    value='5'\n",
    "elif value==6:\n",
    "    value='6'\n",
    "elif value==7:\n",
    "    value='7'\n",
    "elif value==8:\n",
    "    value='8'\n",
    "elif value==9:\n",
    "    value='9'\n",
    "elif value==10:\n",
    "    value='10'\n",
    "elif value==11:\n",
    "    value='Jack'\n",
    "elif value==2:\n",
    "    value='Queen'\n",
    "elif value==2:\n",
    "    value='king'\n",
    "\n",
    "print('The card you picked is the',h,'of',value)"
   ]
  },
  {
   "cell_type": "markdown",
   "metadata": {},
   "source": [
    "- 11\n",
    "![](../Photo/52.png)"
   ]
  },
  {
   "cell_type": "code",
   "execution_count": 1,
   "metadata": {},
   "outputs": [
    {
     "name": "stdout",
     "output_type": "stream",
     "text": [
      "请输入一个三位整数:565\n",
      "565 是回文数\n"
     ]
    }
   ],
   "source": [
    "x = eval(input('请输入一个三位整数:'))\n",
    "if x%10==x//100:\n",
    "    print(x,'是回文数')\n",
    "else:\n",
    "    print(x,'不是回文数')"
   ]
  },
  {
   "cell_type": "markdown",
   "metadata": {},
   "source": [
    "- 12\n",
    "![](../Photo/53.png)"
   ]
  },
  {
   "cell_type": "code",
   "execution_count": 5,
   "metadata": {},
   "outputs": [
    {
     "name": "stdout",
     "output_type": "stream",
     "text": [
      "Enter three edges:3,5,6\n",
      "The perimeter is 14\n"
     ]
    }
   ],
   "source": [
    "a,b,c = eval(input('Enter three edges:'))\n",
    "if (a+b>c) and (a+c>b) and (b+c>a):\n",
    "    print('The perimeter is',a+b+c)\n",
    "else:\n",
    "    print('输入的边长是非法的')"
   ]
  }
 ],
 "metadata": {
  "kernelspec": {
   "display_name": "Python 3",
   "language": "python",
   "name": "python3"
  },
  "language_info": {
   "codemirror_mode": {
    "name": "ipython",
    "version": 3
   },
   "file_extension": ".py",
   "mimetype": "text/x-python",
   "name": "python",
   "nbconvert_exporter": "python",
   "pygments_lexer": "ipython3",
   "version": "3.7.3"
  }
 },
 "nbformat": 4,
 "nbformat_minor": 2
}
